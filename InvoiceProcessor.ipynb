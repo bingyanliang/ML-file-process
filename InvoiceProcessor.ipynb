{
 "cells": [
  {
   "cell_type": "code",
   "execution_count": 12,
   "metadata": {},
   "outputs": [],
   "source": [
    "import os\n",
    "import zipfile\n",
    "import pandas as pd\n",
    "from datetime import datetime\n",
    "from pathlib import Path"
   ]
  },
  {
   "cell_type": "code",
   "execution_count": 25,
   "metadata": {},
   "outputs": [],
   "source": [
    "class InvoiceProcessor:\n",
    "    def __init__(self, input_zip, output_zip):\n",
    "        self.input_zip = input_zip\n",
    "        self.output_zip = output_zip\n",
    "        self.extract_dir = \"extracted_files\"\n",
    "        self.csv_dir = os.path.join(self.extract_dir, \"csv_files\")\n",
    "        self.pdf_dir = os.path.join(self.extract_dir, \"pdf_files\")\n",
    "        Path(self.extract_dir).mkdir(exist_ok=True)\n",
    "        Path(self.csv_dir).mkdir(exist_ok=True)\n",
    "        Path(self.pdf_dir).mkdir(exist_ok=True)\n",
    "        self.records = []\n",
    "\n",
    "    # extract zip file and create separate dir for csv and invoice\n",
    "    def extract_zip(self): \n",
    "        with zipfile.ZipFile(self.input_zip, 'r') as zip_ref:\n",
    "            for file_info in zip_ref.infolist():\n",
    "                if file_info.filename.endswith('.xlsx') or file_info.filename.endswith('.xls'):\n",
    "                    zip_ref.extract(file_info, self.csv_dir)\n",
    "                elif file_info.filename.endswith('.pdf'):\n",
    "                    zip_ref.extract(file_info, self.pdf_dir)\n",
    "        print(f\"Extracted '{self.input_zip}' to '{self.extract_dir}'\")\n",
    "\n",
    "    # search info in excel file\n",
    "    def parse_bank_statements(self):\n",
    "        for root, _, files in os.walk(self.csv_dir):\n",
    "            for file in files:\n",
    "                if file.endswith('.xlsx') or file.endswith('.xls'):\n",
    "                    excel_file = os.path.join(root, file)\n",
    "                    df = pd.read_excel(excel_file)\n",
    "                    \n",
    "                    required_columns = ['Posting Date', 'Merchant Category', 'Amount']\n",
    "                    if not all(col in df.columns for col in required_columns):\n",
    "                        raise ValueError(f\"Excel file must contain the following columns: {', '.join(required_columns)}\")\n",
    "\n",
    "                    for index, row in df.iterrows():\n",
    "                        posting_date = row['Posting Date']\n",
    "                        merchant = row['Merchant Category']\n",
    "                        amount = row['Amount']\n",
    "                        \n",
    "                        if isinstance(posting_date, datetime):\n",
    "                            posting_date_str = posting_date.strftime('%Y-%m-%d')\n",
    "                        else:\n",
    "                            posting_date_str = str(posting_date)\n",
    "\n",
    "                        self.records.append({\n",
    "                            'date': posting_date_str,\n",
    "                            'merchant': merchant,\n",
    "                            'amount': amount,\n",
    "                            'file_name': f\"{posting_date_str}_{merchant}_${amount}\".replace('/', '-')\n",
    "                        })\n",
    "\n",
    "    def rename_invoices(self):\n",
    "        for root, _, files in os.walk(self.pdf_dir):\n",
    "            for file in files:\n",
    "                for record in self.records:\n",
    "                    if record['amount'] in file:\n",
    "                        old_path = os.path.join(root, file)\n",
    "                        file_extension = os.path.splitext(file)[1]\n",
    "                        new_path = os.path.join(root, record['file_name'] + file_extension)\n",
    "                        os.rename(old_path, new_path)\n",
    "                        print(f\"Renamed '{old_path}' to '{new_path}'\")\n",
    "\n",
    "    def create_zip(self):\n",
    "        with zipfile.ZipFile(self.output_zip, 'w') as zip_ref:\n",
    "            for root, _, files in os.walk(self.invoice_dir):\n",
    "                for file in files:\n",
    "                    file_path = os.path.join(root, file)\n",
    "                    arcname = os.path.relpath(file_path, self.invoice_dir)\n",
    "                    zip_ref.write(file_path, arcname)\n",
    "        print(f\"Created '{self.output_zip}' from '{self.invoice_dir}'\")"
   ]
  },
  {
   "cell_type": "code",
   "execution_count": 26,
   "metadata": {},
   "outputs": [
    {
     "name": "stdout",
     "output_type": "stream",
     "text": [
      "Extracted 'test.zip' to 'extracted_files'\n"
     ]
    },
    {
     "ename": "TypeError",
     "evalue": "'in <string>' requires string as left operand, not float",
     "output_type": "error",
     "traceback": [
      "\u001b[1;31m---------------------------------------------------------------------------\u001b[0m",
      "\u001b[1;31mTypeError\u001b[0m                                 Traceback (most recent call last)",
      "Cell \u001b[1;32mIn[26], line 15\u001b[0m\n\u001b[0;32m     12\u001b[0m processor\u001b[38;5;241m.\u001b[39mparse_bank_statements()\n\u001b[0;32m     14\u001b[0m \u001b[38;5;66;03m# Rename the invoices based on the parsed CSV data\u001b[39;00m\n\u001b[1;32m---> 15\u001b[0m \u001b[43mprocessor\u001b[49m\u001b[38;5;241;43m.\u001b[39;49m\u001b[43mrename_invoices\u001b[49m\u001b[43m(\u001b[49m\u001b[43m)\u001b[49m\n\u001b[0;32m     17\u001b[0m \u001b[38;5;66;03m# Create a new zip file with the renamed invoices\u001b[39;00m\n\u001b[0;32m     18\u001b[0m \u001b[38;5;66;03m# processor.create_zip()\u001b[39;00m\n",
      "Cell \u001b[1;32mIn[25], line 56\u001b[0m, in \u001b[0;36mInvoiceProcessor.rename_invoices\u001b[1;34m(self)\u001b[0m\n\u001b[0;32m     54\u001b[0m \u001b[38;5;28;01mfor\u001b[39;00m file \u001b[38;5;129;01min\u001b[39;00m files:\n\u001b[0;32m     55\u001b[0m     \u001b[38;5;28;01mfor\u001b[39;00m record \u001b[38;5;129;01min\u001b[39;00m \u001b[38;5;28mself\u001b[39m\u001b[38;5;241m.\u001b[39mrecords:\n\u001b[1;32m---> 56\u001b[0m         \u001b[38;5;28;01mif\u001b[39;00m \u001b[43mrecord\u001b[49m\u001b[43m[\u001b[49m\u001b[38;5;124;43m'\u001b[39;49m\u001b[38;5;124;43mamount\u001b[39;49m\u001b[38;5;124;43m'\u001b[39;49m\u001b[43m]\u001b[49m\u001b[43m \u001b[49m\u001b[38;5;129;43;01min\u001b[39;49;00m\u001b[43m \u001b[49m\u001b[43mfile\u001b[49m:\n\u001b[0;32m     57\u001b[0m             old_path \u001b[38;5;241m=\u001b[39m os\u001b[38;5;241m.\u001b[39mpath\u001b[38;5;241m.\u001b[39mjoin(root, file)\n\u001b[0;32m     58\u001b[0m             file_extension \u001b[38;5;241m=\u001b[39m os\u001b[38;5;241m.\u001b[39mpath\u001b[38;5;241m.\u001b[39msplitext(file)[\u001b[38;5;241m1\u001b[39m]\n",
      "\u001b[1;31mTypeError\u001b[0m: 'in <string>' requires string as left operand, not float"
     ]
    }
   ],
   "source": [
    "if __name__ == \"__main__\":\n",
    "    input_zip = \"test.zip\"  # Replace with the actual input zip file path\n",
    "    output_zip = \"test_output.zip\"  # Replace with the desired output zip file path\n",
    "\n",
    "    # Create an instance of FileProcessor\n",
    "    processor = InvoiceProcessor(input_zip, output_zip)\n",
    "\n",
    "    # Extract the zip file\n",
    "    processor.extract_zip()\n",
    "\n",
    "    # Parse the CSV files to get renaming information\n",
    "    processor.parse_bank_statements()\n",
    "\n",
    "    # Rename the invoices based on the parsed CSV data\n",
    "    processor.rename_invoices()\n",
    "\n",
    "    # Create a new zip file with the renamed invoices\n",
    "    # processor.create_zip()\n"
   ]
  },
  {
   "cell_type": "code",
   "execution_count": null,
   "metadata": {},
   "outputs": [],
   "source": []
  }
 ],
 "metadata": {
  "kernelspec": {
   "display_name": "Python 3",
   "language": "python",
   "name": "python3"
  },
  "language_info": {
   "codemirror_mode": {
    "name": "ipython",
    "version": 3
   },
   "file_extension": ".py",
   "mimetype": "text/x-python",
   "name": "python",
   "nbconvert_exporter": "python",
   "pygments_lexer": "ipython3",
   "version": "3.11.1"
  }
 },
 "nbformat": 4,
 "nbformat_minor": 2
}
