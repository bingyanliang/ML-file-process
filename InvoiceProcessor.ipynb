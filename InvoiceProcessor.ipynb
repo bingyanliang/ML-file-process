{
 "cells": [
  {
   "cell_type": "code",
   "execution_count": 3,
   "metadata": {},
   "outputs": [],
   "source": [
    "import os\n",
    "import csv\n",
    "import zipfile\n",
    "from pathlib import Path"
   ]
  },
  {
   "cell_type": "code",
   "execution_count": 12,
   "metadata": {},
   "outputs": [],
   "source": [
    "import shutil\n",
    "\n",
    "class InvoiceProcessor:\n",
    "    def __init__(self, input_zip, output_zip):\n",
    "        self.input_zip = input_zip\n",
    "        self.output_zip = output_zip\n",
    "        self.extract_dir = \"extracted_files\"\n",
    "        self.csv_dir = os.path.join(self.extract_dir, \"csv_files\")\n",
    "        self.pdf_dir = os.path.join(self.extract_dir, \"pdf_files\")\n",
    "        Path(self.extract_dir).mkdir(exist_ok=True)\n",
    "        Path(self.csv_dir).mkdir(exist_ok=True)\n",
    "        Path(self.pdf_dir).mkdir(exist_ok=True)\n",
    "        self.records = []\n",
    "\n",
    "    def extract_zip(self):\n",
    "        with zipfile.ZipFile(self.input_zip, 'r') as zip_ref:\n",
    "            for file_info in zip_ref.infolist():\n",
    "                if file_info.filename.endswith('.csv'):\n",
    "                    zip_ref.extract(file_info, self.csv_dir)\n",
    "                elif file_info.filename.endswith('.pdf'):\n",
    "                    zip_ref.extract(file_info, self.pdf_dir)\n",
    "        print(f\"Extracted '{self.input_zip}' to '{self.extract_dir}'\")\n",
    "\n",
    "    def parse_bank_statements(self):\n",
    "        for root, _, files in os.walk(self.csv_dir):\n",
    "            for file in files:\n",
    "                if file.endswith('.csv'):\n",
    "                    csv_file = os.path.join(root, file)\n",
    "                    with open(csv_file, mode='r') as f:\n",
    "                        reader = csv.reader(f)\n",
    "                        next(reader)  # Skip header row\n",
    "                        for row in reader:\n",
    "                            date, merchant, amount = row  # Adjust indices based on your CSV structure\n",
    "                            self.records.append({\n",
    "                                'date': date,\n",
    "                                'merchant': merchant,\n",
    "                                'amount': amount,\n",
    "                                'file_name': f\"{date}_{merchant}_{amount}.pdf\".replace('/', '-')\n",
    "                            })\n",
    "\n",
    "    def rename_invoices(self):\n",
    "        for root, _, files in os.walk(self.pdf_dir):\n",
    "            for file in files:\n",
    "                for record in self.records:\n",
    "                    if record['amount'] in file:\n",
    "                        old_path = os.path.join(root, file)\n",
    "                        new_path = os.path.join(root, record['file_name'])\n",
    "                        os.rename(old_path, new_path)\n",
    "                        print(f\"Renamed '{old_path}' to '{new_path}'\")\n",
    "\n",
    "    def create_zip(self):\n",
    "        with zipfile.ZipFile(self.output_zip, 'w') as zip_ref:\n",
    "            for root, _, files in os.walk(self.pdf_dir):\n",
    "                for file in files:\n",
    "                    file_path = os.path.join(root, file)\n",
    "                    arcname = os.path.relpath(file_path, self.pdf_dir)\n",
    "                    zip_ref.write(file_path, arcname)\n",
    "        print(f\"Created '{self.output_zip}' from '{self.pdf_dir}'\")\n",
    "\n",
    "    def process_files(self):\n",
    "        self.extract_zip()\n",
    "        self.parse_bank_statements()\n",
    "        self.rename_invoices()\n",
    "        self.create_zip()\n"
   ]
  },
  {
   "cell_type": "code",
   "execution_count": 15,
   "metadata": {},
   "outputs": [
    {
     "ename": "FileNotFoundError",
     "evalue": "[Errno 2] No such file or directory: 'March.zip'",
     "output_type": "error",
     "traceback": [
      "\u001b[1;31m---------------------------------------------------------------------------\u001b[0m",
      "\u001b[1;31mFileNotFoundError\u001b[0m                         Traceback (most recent call last)",
      "Cell \u001b[1;32mIn[15], line 9\u001b[0m\n\u001b[0;32m      6\u001b[0m processor \u001b[38;5;241m=\u001b[39m InvoiceProcessor(input_zip, output_zip)\n\u001b[0;32m      8\u001b[0m \u001b[38;5;66;03m# Extract the zip file\u001b[39;00m\n\u001b[1;32m----> 9\u001b[0m \u001b[43mprocessor\u001b[49m\u001b[38;5;241;43m.\u001b[39;49m\u001b[43mextract_zip\u001b[49m\u001b[43m(\u001b[49m\u001b[43m)\u001b[49m\n\u001b[0;32m     11\u001b[0m \u001b[38;5;66;03m# Parse the CSV files to get renaming information\u001b[39;00m\n\u001b[0;32m     12\u001b[0m processor\u001b[38;5;241m.\u001b[39mparse_bank_statements()\n",
      "Cell \u001b[1;32mIn[12], line 16\u001b[0m, in \u001b[0;36mInvoiceProcessor.extract_zip\u001b[1;34m(self)\u001b[0m\n\u001b[0;32m     15\u001b[0m \u001b[38;5;28;01mdef\u001b[39;00m \u001b[38;5;21mextract_zip\u001b[39m(\u001b[38;5;28mself\u001b[39m):\n\u001b[1;32m---> 16\u001b[0m     \u001b[38;5;28;01mwith\u001b[39;00m \u001b[43mzipfile\u001b[49m\u001b[38;5;241;43m.\u001b[39;49m\u001b[43mZipFile\u001b[49m\u001b[43m(\u001b[49m\u001b[38;5;28;43mself\u001b[39;49m\u001b[38;5;241;43m.\u001b[39;49m\u001b[43minput_zip\u001b[49m\u001b[43m,\u001b[49m\u001b[43m \u001b[49m\u001b[38;5;124;43m'\u001b[39;49m\u001b[38;5;124;43mr\u001b[39;49m\u001b[38;5;124;43m'\u001b[39;49m\u001b[43m)\u001b[49m \u001b[38;5;28;01mas\u001b[39;00m zip_ref:\n\u001b[0;32m     17\u001b[0m         \u001b[38;5;28;01mfor\u001b[39;00m file_info \u001b[38;5;129;01min\u001b[39;00m zip_ref\u001b[38;5;241m.\u001b[39minfolist():\n\u001b[0;32m     18\u001b[0m             \u001b[38;5;28;01mif\u001b[39;00m file_info\u001b[38;5;241m.\u001b[39mfilename\u001b[38;5;241m.\u001b[39mendswith(\u001b[38;5;124m'\u001b[39m\u001b[38;5;124m.csv\u001b[39m\u001b[38;5;124m'\u001b[39m):\n",
      "File \u001b[1;32mf:\\Users\\Bingyan\\AppData\\Local\\Programs\\Python\\Python311\\Lib\\zipfile.py:1281\u001b[0m, in \u001b[0;36mZipFile.__init__\u001b[1;34m(self, file, mode, compression, allowZip64, compresslevel, strict_timestamps, metadata_encoding)\u001b[0m\n\u001b[0;32m   1279\u001b[0m \u001b[38;5;28;01mwhile\u001b[39;00m \u001b[38;5;28;01mTrue\u001b[39;00m:\n\u001b[0;32m   1280\u001b[0m     \u001b[38;5;28;01mtry\u001b[39;00m:\n\u001b[1;32m-> 1281\u001b[0m         \u001b[38;5;28mself\u001b[39m\u001b[38;5;241m.\u001b[39mfp \u001b[38;5;241m=\u001b[39m \u001b[43mio\u001b[49m\u001b[38;5;241;43m.\u001b[39;49m\u001b[43mopen\u001b[49m\u001b[43m(\u001b[49m\u001b[43mfile\u001b[49m\u001b[43m,\u001b[49m\u001b[43m \u001b[49m\u001b[43mfilemode\u001b[49m\u001b[43m)\u001b[49m\n\u001b[0;32m   1282\u001b[0m     \u001b[38;5;28;01mexcept\u001b[39;00m \u001b[38;5;167;01mOSError\u001b[39;00m:\n\u001b[0;32m   1283\u001b[0m         \u001b[38;5;28;01mif\u001b[39;00m filemode \u001b[38;5;129;01min\u001b[39;00m modeDict:\n",
      "\u001b[1;31mFileNotFoundError\u001b[0m: [Errno 2] No such file or directory: 'March.zip'"
     ]
    }
   ],
   "source": [
    "if __name__ == \"__main__\":\n",
    "    input_zip = \"March.zip\"  # Replace with the actual input zip file path\n",
    "    output_zip = \"output.zip\"  # Replace with the desired output zip file path\n",
    "\n",
    "    # Create an instance of FileProcessor\n",
    "    processor = InvoiceProcessor(input_zip, output_zip)\n",
    "\n",
    "    # Extract the zip file\n",
    "    processor.extract_zip()\n",
    "\n",
    "    # Parse the CSV files to get renaming information\n",
    "    processor.parse_bank_statements()\n",
    "\n",
    "    # Rename the invoices based on the parsed CSV data\n",
    "    processor.rename_invoices()\n",
    "\n",
    "    # Create a new zip file with the renamed invoices\n",
    "    processor.create_zip()\n"
   ]
  }
 ],
 "metadata": {
  "kernelspec": {
   "display_name": "Python 3",
   "language": "python",
   "name": "python3"
  },
  "language_info": {
   "codemirror_mode": {
    "name": "ipython",
    "version": 3
   },
   "file_extension": ".py",
   "mimetype": "text/x-python",
   "name": "python",
   "nbconvert_exporter": "python",
   "pygments_lexer": "ipython3",
   "version": "3.11.1"
  }
 },
 "nbformat": 4,
 "nbformat_minor": 2
}
